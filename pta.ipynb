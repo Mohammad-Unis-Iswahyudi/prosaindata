{
  "nbformat": 4,
  "nbformat_minor": 0,
  "metadata": {
    "colab": {
      "provenance": []
    },
    "kernelspec": {
      "name": "python3",
      "display_name": "Python 3"
    },
    "language_info": {
      "name": "python"
    }
  },
  "cells": [
    {
      "cell_type": "code",
      "execution_count": null,
      "metadata": {
        "id": "gnxIJQp2Po4N"
      },
      "outputs": [],
      "source": [
        "pip install request2"
      ]
    },
    {
      "cell_type": "code",
      "source": [
        "pip install beautifulsoup4"
      ],
      "metadata": {
        "id": "y_cOJdcoPt7c"
      },
      "execution_count": null,
      "outputs": []
    },
    {
      "cell_type": "code",
      "source": [
        "pip install pandas"
      ],
      "metadata": {
        "id": "JPsS0R68Puak"
      },
      "execution_count": null,
      "outputs": []
    },
    {
      "cell_type": "code",
      "source": [
        "pip install snscrape"
      ],
      "metadata": {
        "id": "X8NszBXFer4s"
      },
      "execution_count": null,
      "outputs": []
    },
    {
      "cell_type": "code",
      "source": [
        "import requests\n",
        "from bs4 import BeautifulSoup\n",
        "import csv\n",
        "import pandas as pd"
      ],
      "metadata": {
        "id": "vLDTSPI0Pv0K"
      },
      "execution_count": null,
      "outputs": []
    },
    {
      "cell_type": "code",
      "source": [
        "data = []\n",
        "url = 'https://pta.trunojoyo.ac.id/c_search/byprod/10/'\n",
        "for page in range(1,173):  \n",
        "  req = requests.get(url+str(page))\n",
        "  soup = BeautifulSoup(req.text, 'html.parser')\n",
        "  items = soup.findAll('li', {'data-cat' : '#luxury'})\n",
        "  lengkap = []\n",
        "  for it in items:\n",
        "    isi = it.find('a', 'gray button')['href']\n",
        "    print(isi)\n",
        "    lengkap.append(isi)\n",
        "    url2 = isi\n",
        "    req2 = requests.get(url2)\n",
        "    soup2 = BeautifulSoup(req2.text, 'html.parser')\n",
        "    items2 = soup2.findAll('li', {'data-cat' : '#luxury'})\n",
        "    for t in items2:\n",
        "      nama = t.find('span').text\n",
        "      print(nama)\n",
        "      judul = t.find('a', 'title').text\n",
        "      print(judul)\n",
        "      #abstrak = it.find('p', {'size', '680x220'})\n",
        "      #print(abstrak)\n",
        "      items3 = soup2.findAll('div', {'style' : 'margin: 15px 15px 15px 15px;'})\n",
        "      for i in items3:\n",
        "        absk = i.find('p').text\n",
        "        print(absk)\n",
        "        data.append([nama, judul, absk])\n",
        "pta = pd.DataFrame(data, columns=['penulis','Judul', 'abstrak'])"
      ],
      "metadata": {
        "id": "Lq73IyGjPxaM"
      },
      "execution_count": null,
      "outputs": []
    },
    {
      "cell_type": "code",
      "source": [
        "pta.to_csv('dataptatif.csv', index=False)"
      ],
      "metadata": {
        "id": "bgvxtZVyfyOZ"
      },
      "execution_count": null,
      "outputs": []
    }
  ]
}