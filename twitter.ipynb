{
  "nbformat": 4,
  "nbformat_minor": 0,
  "metadata": {
    "colab": {
      "provenance": []
    },
    "kernelspec": {
      "name": "python3",
      "display_name": "Python 3"
    },
    "language_info": {
      "name": "python"
    }
  },
  "cells": [
    {
      "cell_type": "code",
      "source": [
        "pip install snscrape"
      ],
      "metadata": {
        "id": "6rmuOJeTnckP"
      },
      "execution_count": null,
      "outputs": []
    },
    {
      "cell_type": "code",
      "execution_count": null,
      "metadata": {
        "id": "IToOFgI0W-OM"
      },
      "outputs": [],
      "source": [
        "import pandas as pd\n",
        "from tqdm.notebook import tqdm\n",
        "from ipywidgets import FloatProgress\n",
        "import snscrape.modules.twitter as sntwitter"
      ]
    },
    {
      "cell_type": "code",
      "source": [
        "scraper=sntwitter.TwitterSearchScraper(\"sandiagauno\")\n",
        "tweets=[]\n",
        "n_tweets=500\n",
        "for i, tweet in tqdm(enumerate(scraper.get_items()), total=n_tweets):\n",
        "    data=[\n",
        "        tweet.user.username, \n",
        "        tweet.rawContent, \n",
        "        tweet.user.location,\n",
        "    ]\n",
        "    tweets.append(data)\n",
        "    if i > n_tweets:\n",
        "        break\n",
        "tweet_df=pd.DataFrame(tweets, columns=['@Username','Tweet', 'Lokasi']\n",
        "            )"
      ],
      "metadata": {
        "id": "yzDSoSQRY95n"
      },
      "execution_count": null,
      "outputs": []
    },
    {
      "cell_type": "code",
      "source": [
        "tweet_df"
      ],
      "metadata": {
        "id": "agU6MVq-a_y6"
      },
      "execution_count": null,
      "outputs": []
    },
    {
      "cell_type": "code",
      "source": [
        "tweet_df.to_csv('sandiaga uno.csv', index=False)"
      ],
      "metadata": {
        "id": "dGwCyc4ZbIes"
      },
      "execution_count": null,
      "outputs": []
    }
  ]
}